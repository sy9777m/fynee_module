{
 "metadata": {
  "language_info": {
   "codemirror_mode": {
    "name": "ipython",
    "version": 3
   },
   "file_extension": ".py",
   "mimetype": "text/x-python",
   "name": "python",
   "nbconvert_exporter": "python",
   "pygments_lexer": "ipython3",
   "version": "3.9.0-final"
  },
  "orig_nbformat": 2,
  "kernelspec": {
   "name": "python3",
   "display_name": "Python 3.9.0 64-bit ('venv')",
   "metadata": {
    "interpreter": {
     "hash": "50d7bfb294fb89279656e09c57913717727eb44a047c0384b9efec7edbaaed9c"
    }
   }
  }
 },
 "nbformat": 4,
 "nbformat_minor": 2,
 "cells": [
  {
   "cell_type": "code",
   "execution_count": 1,
   "metadata": {},
   "outputs": [],
   "source": [
    "import os\n",
    "import jwt\n",
    "import uuid\n",
    "import hashlib\n",
    "from urllib.parse import urlencode\n",
    "import requests\n",
    "from dotenv import load_dotenv\n",
    "from pathlib import Path\n",
    "import pandas as pd"
   ]
  },
  {
   "cell_type": "code",
   "execution_count": 2,
   "metadata": {},
   "outputs": [
    {
     "output_type": "execute_result",
     "data": {
      "text/plain": [
       "True"
      ]
     },
     "metadata": {},
     "execution_count": 2
    }
   ],
   "source": [
    "env_path = Path('..') / '.env'\n",
    "load_dotenv(dotenv_path=env_path)"
   ]
  },
  {
   "cell_type": "code",
   "execution_count": 12,
   "metadata": {},
   "outputs": [
    {
     "output_type": "stream",
     "name": "stdout",
     "text": [
      "('192.168.35.70', 53615)\n{'error': {'message': '인증된 IP가 아닙니다.', 'name': 'no_authorization_i_p'}}\n"
     ]
    }
   ],
   "source": [
    "access_key = os.environ['UPBIT_OPEN_API_ACCESS_KEY']\n",
    "secret_key = os.environ['UPBIT_OPEN_API_SECRET_KEY']\n",
    "server_url = os.environ['UPBIT_OPEN_API_SERVER_URL']\n",
    "\n",
    "payload = {\n",
    "    'access_key': access_key,\n",
    "    'nonce': str(uuid.uuid4()),\n",
    "}\n",
    "\n",
    "jwt_token = jwt.encode(payload, secret_key).decode('utf-8')\n",
    "authorize_token = 'Bearer {}'.format(jwt_token)\n",
    "headers = {\"Authorization\": authorize_token}\n",
    "\n",
    "res = requests.get(server_url + \"/v1/accounts\", headers=headers, stream=True)\n",
    "print(res.raw._connection.sock.getsockname())\n",
    "\n",
    "print(res.json())"
   ]
  },
  {
   "cell_type": "code",
   "execution_count": 2,
   "metadata": {},
   "outputs": [],
   "source": [
    "import m_upbit_market as upbit"
   ]
  },
  {
   "cell_type": "code",
   "execution_count": 3,
   "metadata": {},
   "outputs": [],
   "source": [
    "pd.set_option('display.max_columns', None)"
   ]
  },
  {
   "cell_type": "code",
   "execution_count": 4,
   "metadata": {},
   "outputs": [],
   "source": [
    "market_code = upbit.upbitMarketCode()"
   ]
  },
  {
   "cell_type": "code",
   "execution_count": 14,
   "metadata": {},
   "outputs": [
    {
     "output_type": "execute_result",
     "data": {
      "text/plain": [
       "        market korean_name       english_name\n",
       "0      KRW-BTC        비트코인            Bitcoin\n",
       "1      KRW-ETH        이더리움           Ethereum\n",
       "2      BTC-ETH        이더리움           Ethereum\n",
       "3      BTC-LTC       라이트코인           Litecoin\n",
       "4      BTC-XRP          리플             Ripple\n",
       "..         ...         ...                ...\n",
       "270  BTC-STRAX       스트라티스            Stratis\n",
       "271  KRW-STRAX       스트라티스            Stratis\n",
       "272    KRW-AQT        알파쿼크  Alpha Quark Token\n",
       "273   BTC-BCHA  비트코인캐시에이비씨   Bitcoin Cash ABC\n",
       "274   KRW-BCHA  비트코인캐시에이비씨   Bitcoin Cash ABC\n",
       "\n",
       "[275 rows x 3 columns]"
      ],
      "text/html": "<div>\n<style scoped>\n    .dataframe tbody tr th:only-of-type {\n        vertical-align: middle;\n    }\n\n    .dataframe tbody tr th {\n        vertical-align: top;\n    }\n\n    .dataframe thead th {\n        text-align: right;\n    }\n</style>\n<table border=\"1\" class=\"dataframe\">\n  <thead>\n    <tr style=\"text-align: right;\">\n      <th></th>\n      <th>market</th>\n      <th>korean_name</th>\n      <th>english_name</th>\n    </tr>\n  </thead>\n  <tbody>\n    <tr>\n      <th>0</th>\n      <td>KRW-BTC</td>\n      <td>비트코인</td>\n      <td>Bitcoin</td>\n    </tr>\n    <tr>\n      <th>1</th>\n      <td>KRW-ETH</td>\n      <td>이더리움</td>\n      <td>Ethereum</td>\n    </tr>\n    <tr>\n      <th>2</th>\n      <td>BTC-ETH</td>\n      <td>이더리움</td>\n      <td>Ethereum</td>\n    </tr>\n    <tr>\n      <th>3</th>\n      <td>BTC-LTC</td>\n      <td>라이트코인</td>\n      <td>Litecoin</td>\n    </tr>\n    <tr>\n      <th>4</th>\n      <td>BTC-XRP</td>\n      <td>리플</td>\n      <td>Ripple</td>\n    </tr>\n    <tr>\n      <th>...</th>\n      <td>...</td>\n      <td>...</td>\n      <td>...</td>\n    </tr>\n    <tr>\n      <th>270</th>\n      <td>BTC-STRAX</td>\n      <td>스트라티스</td>\n      <td>Stratis</td>\n    </tr>\n    <tr>\n      <th>271</th>\n      <td>KRW-STRAX</td>\n      <td>스트라티스</td>\n      <td>Stratis</td>\n    </tr>\n    <tr>\n      <th>272</th>\n      <td>KRW-AQT</td>\n      <td>알파쿼크</td>\n      <td>Alpha Quark Token</td>\n    </tr>\n    <tr>\n      <th>273</th>\n      <td>BTC-BCHA</td>\n      <td>비트코인캐시에이비씨</td>\n      <td>Bitcoin Cash ABC</td>\n    </tr>\n    <tr>\n      <th>274</th>\n      <td>KRW-BCHA</td>\n      <td>비트코인캐시에이비씨</td>\n      <td>Bitcoin Cash ABC</td>\n    </tr>\n  </tbody>\n</table>\n<p>275 rows × 3 columns</p>\n</div>"
     },
     "metadata": {},
     "execution_count": 14
    }
   ],
   "source": [
    "market_code"
   ]
  },
  {
   "cell_type": "code",
   "execution_count": 15,
   "metadata": {},
   "outputs": [
    {
     "output_type": "execute_result",
     "data": {
      "text/plain": [
       "Index(['market', 'trade_date', 'trade_time', 'trade_date_kst',\n",
       "       'trade_time_kst', 'trade_timestamp', 'opening_price', 'high_price',\n",
       "       'low_price', 'trade_price', 'prev_closing_price', 'change',\n",
       "       'change_price', 'change_rate', 'signed_change_price',\n",
       "       'signed_change_rate', 'trade_volume', 'acc_trade_price',\n",
       "       'acc_trade_price_24h', 'acc_trade_volume', 'acc_trade_volume_24h',\n",
       "       'highest_52_week_price', 'highest_52_week_date', 'lowest_52_week_price',\n",
       "       'lowest_52_week_date', 'timestamp'],\n",
       "      dtype='object')"
      ]
     },
     "metadata": {},
     "execution_count": 15
    }
   ],
   "source": [
    "upbit.upbitTicker(markets=market_code['market'][0]).columns"
   ]
  },
  {
   "cell_type": "code",
   "execution_count": 16,
   "metadata": {},
   "outputs": [
    {
     "output_type": "execute_result",
     "data": {
      "text/plain": [
       "    market trade_date trade_time trade_date_kst trade_time_kst  \\\n",
       "0  KRW-BTC   20201121     104701       20201121         194701   \n",
       "\n",
       "   trade_timestamp  opening_price  high_price   low_price  trade_price  \\\n",
       "0    1605955621000     20627000.0  21025000.0  20501000.0   20612000.0   \n",
       "\n",
       "   prev_closing_price change  change_price  change_rate  signed_change_price  \\\n",
       "0          20627000.0   FALL       15000.0     0.000727             -15000.0   \n",
       "\n",
       "   signed_change_rate  trade_volume  acc_trade_price  acc_trade_price_24h  \\\n",
       "0           -0.000727      0.000074     6.240835e+10         1.265935e+11   \n",
       "\n",
       "   acc_trade_volume  acc_trade_volume_24h  highest_52_week_price  \\\n",
       "0       3006.459861           6136.437726             21025000.0   \n",
       "\n",
       "  highest_52_week_date  lowest_52_week_price lowest_52_week_date  \\\n",
       "0           2020-11-21             5489000.0          2020-03-13   \n",
       "\n",
       "       timestamp  \n",
       "0  1605955621309  "
      ],
      "text/html": "<div>\n<style scoped>\n    .dataframe tbody tr th:only-of-type {\n        vertical-align: middle;\n    }\n\n    .dataframe tbody tr th {\n        vertical-align: top;\n    }\n\n    .dataframe thead th {\n        text-align: right;\n    }\n</style>\n<table border=\"1\" class=\"dataframe\">\n  <thead>\n    <tr style=\"text-align: right;\">\n      <th></th>\n      <th>market</th>\n      <th>trade_date</th>\n      <th>trade_time</th>\n      <th>trade_date_kst</th>\n      <th>trade_time_kst</th>\n      <th>trade_timestamp</th>\n      <th>opening_price</th>\n      <th>high_price</th>\n      <th>low_price</th>\n      <th>trade_price</th>\n      <th>prev_closing_price</th>\n      <th>change</th>\n      <th>change_price</th>\n      <th>change_rate</th>\n      <th>signed_change_price</th>\n      <th>signed_change_rate</th>\n      <th>trade_volume</th>\n      <th>acc_trade_price</th>\n      <th>acc_trade_price_24h</th>\n      <th>acc_trade_volume</th>\n      <th>acc_trade_volume_24h</th>\n      <th>highest_52_week_price</th>\n      <th>highest_52_week_date</th>\n      <th>lowest_52_week_price</th>\n      <th>lowest_52_week_date</th>\n      <th>timestamp</th>\n    </tr>\n  </thead>\n  <tbody>\n    <tr>\n      <th>0</th>\n      <td>KRW-BTC</td>\n      <td>20201121</td>\n      <td>104701</td>\n      <td>20201121</td>\n      <td>194701</td>\n      <td>1605955621000</td>\n      <td>20627000.0</td>\n      <td>21025000.0</td>\n      <td>20501000.0</td>\n      <td>20612000.0</td>\n      <td>20627000.0</td>\n      <td>FALL</td>\n      <td>15000.0</td>\n      <td>0.000727</td>\n      <td>-15000.0</td>\n      <td>-0.000727</td>\n      <td>0.000074</td>\n      <td>6.240835e+10</td>\n      <td>1.265935e+11</td>\n      <td>3006.459861</td>\n      <td>6136.437726</td>\n      <td>21025000.0</td>\n      <td>2020-11-21</td>\n      <td>5489000.0</td>\n      <td>2020-03-13</td>\n      <td>1605955621309</td>\n    </tr>\n  </tbody>\n</table>\n</div>"
     },
     "metadata": {},
     "execution_count": 16
    }
   ],
   "source": [
    "upbit.upbitTicker(markets=market_code['market'][0])"
   ]
  },
  {
   "cell_type": "code",
   "execution_count": 18,
   "metadata": {},
   "outputs": [
    {
     "output_type": "execute_result",
     "data": {
      "text/plain": [
       "    market candle_date_time_utc candle_date_time_kst  opening_price  \\\n",
       "0  KRW-BTC  2020-11-21T11:08:00  2020-11-21T20:08:00     20608000.0   \n",
       "1  KRW-BTC  2020-11-21T11:07:00  2020-11-21T20:07:00     20600000.0   \n",
       "\n",
       "   high_price   low_price  trade_price      timestamp  candle_acc_trade_price  \\\n",
       "0  20620000.0  20608000.0   20620000.0  1605956924041            2.858536e+05   \n",
       "1  20622000.0  20600000.0   20622000.0  1605956874031            9.252242e+07   \n",
       "\n",
       "   candle_acc_trade_volume  unit  \n",
       "0                 0.013868     1  \n",
       "1                 4.490314     1  "
      ],
      "text/html": "<div>\n<style scoped>\n    .dataframe tbody tr th:only-of-type {\n        vertical-align: middle;\n    }\n\n    .dataframe tbody tr th {\n        vertical-align: top;\n    }\n\n    .dataframe thead th {\n        text-align: right;\n    }\n</style>\n<table border=\"1\" class=\"dataframe\">\n  <thead>\n    <tr style=\"text-align: right;\">\n      <th></th>\n      <th>market</th>\n      <th>candle_date_time_utc</th>\n      <th>candle_date_time_kst</th>\n      <th>opening_price</th>\n      <th>high_price</th>\n      <th>low_price</th>\n      <th>trade_price</th>\n      <th>timestamp</th>\n      <th>candle_acc_trade_price</th>\n      <th>candle_acc_trade_volume</th>\n      <th>unit</th>\n    </tr>\n  </thead>\n  <tbody>\n    <tr>\n      <th>0</th>\n      <td>KRW-BTC</td>\n      <td>2020-11-21T11:08:00</td>\n      <td>2020-11-21T20:08:00</td>\n      <td>20608000.0</td>\n      <td>20620000.0</td>\n      <td>20608000.0</td>\n      <td>20620000.0</td>\n      <td>1605956924041</td>\n      <td>2.858536e+05</td>\n      <td>0.013868</td>\n      <td>1</td>\n    </tr>\n    <tr>\n      <th>1</th>\n      <td>KRW-BTC</td>\n      <td>2020-11-21T11:07:00</td>\n      <td>2020-11-21T20:07:00</td>\n      <td>20600000.0</td>\n      <td>20622000.0</td>\n      <td>20600000.0</td>\n      <td>20622000.0</td>\n      <td>1605956874031</td>\n      <td>9.252242e+07</td>\n      <td>4.490314</td>\n      <td>1</td>\n    </tr>\n  </tbody>\n</table>\n</div>"
     },
     "metadata": {},
     "execution_count": 18
    }
   ],
   "source": [
    "upbit.upbitMinuteCandle(market=market_code['market'][0], count=2, unit=1)"
   ]
  },
  {
   "cell_type": "code",
   "execution_count": 19,
   "metadata": {},
   "outputs": [
    {
     "output_type": "execute_result",
     "data": {
      "text/plain": [
       "    market candle_date_time_utc candle_date_time_kst  opening_price  \\\n",
       "0  KRW-BTC  2020-11-21T00:00:00  2020-11-21T09:00:00     20627000.0   \n",
       "1  KRW-BTC  2020-11-20T00:00:00  2020-11-20T09:00:00     19800000.0   \n",
       "\n",
       "   high_price   low_price  trade_price      timestamp  candle_acc_trade_price  \\\n",
       "0  21025000.0  20501000.0   20595000.0  1605957304367            6.352698e+10   \n",
       "1  20795000.0  19771000.0   20627000.0  1605916797316            1.248195e+11   \n",
       "\n",
       "   candle_acc_trade_volume  prev_closing_price  change_price  change_rate  \n",
       "0              3060.769004          20627000.0      -32000.0    -0.001551  \n",
       "1              6145.389983          19802000.0      825000.0     0.041662  "
      ],
      "text/html": "<div>\n<style scoped>\n    .dataframe tbody tr th:only-of-type {\n        vertical-align: middle;\n    }\n\n    .dataframe tbody tr th {\n        vertical-align: top;\n    }\n\n    .dataframe thead th {\n        text-align: right;\n    }\n</style>\n<table border=\"1\" class=\"dataframe\">\n  <thead>\n    <tr style=\"text-align: right;\">\n      <th></th>\n      <th>market</th>\n      <th>candle_date_time_utc</th>\n      <th>candle_date_time_kst</th>\n      <th>opening_price</th>\n      <th>high_price</th>\n      <th>low_price</th>\n      <th>trade_price</th>\n      <th>timestamp</th>\n      <th>candle_acc_trade_price</th>\n      <th>candle_acc_trade_volume</th>\n      <th>prev_closing_price</th>\n      <th>change_price</th>\n      <th>change_rate</th>\n    </tr>\n  </thead>\n  <tbody>\n    <tr>\n      <th>0</th>\n      <td>KRW-BTC</td>\n      <td>2020-11-21T00:00:00</td>\n      <td>2020-11-21T09:00:00</td>\n      <td>20627000.0</td>\n      <td>21025000.0</td>\n      <td>20501000.0</td>\n      <td>20595000.0</td>\n      <td>1605957304367</td>\n      <td>6.352698e+10</td>\n      <td>3060.769004</td>\n      <td>20627000.0</td>\n      <td>-32000.0</td>\n      <td>-0.001551</td>\n    </tr>\n    <tr>\n      <th>1</th>\n      <td>KRW-BTC</td>\n      <td>2020-11-20T00:00:00</td>\n      <td>2020-11-20T09:00:00</td>\n      <td>19800000.0</td>\n      <td>20795000.0</td>\n      <td>19771000.0</td>\n      <td>20627000.0</td>\n      <td>1605916797316</td>\n      <td>1.248195e+11</td>\n      <td>6145.389983</td>\n      <td>19802000.0</td>\n      <td>825000.0</td>\n      <td>0.041662</td>\n    </tr>\n  </tbody>\n</table>\n</div>"
     },
     "metadata": {},
     "execution_count": 19
    }
   ],
   "source": [
    "upbit.upbitDayCandle(market=market_code['market'][0], count=2)"
   ]
  },
  {
   "cell_type": "code",
   "execution_count": 5,
   "metadata": {},
   "outputs": [
    {
     "output_type": "execute_result",
     "data": {
      "text/plain": [
       "    market candle_date_time_utc candle_date_time_kst  opening_price  \\\n",
       "0  KRW-BTC  2020-11-16T00:00:00  2020-11-16T09:00:00     17670000.0   \n",
       "1  KRW-BTC  2020-11-09T00:00:00  2020-11-09T09:00:00     17276000.0   \n",
       "\n",
       "   high_price   low_price  trade_price      timestamp  candle_acc_trade_price  \\\n",
       "0  21025000.0  17555000.0   20581000.0  1605957733792            7.222665e+11   \n",
       "1  18225000.0  16695000.0   17670000.0  1605484800015            4.571559e+11   \n",
       "\n",
       "   candle_acc_trade_volume first_day_of_period  \n",
       "0             36929.633352          2020-11-16  \n",
       "1             26147.444719          2020-11-09  "
      ],
      "text/html": "<div>\n<style scoped>\n    .dataframe tbody tr th:only-of-type {\n        vertical-align: middle;\n    }\n\n    .dataframe tbody tr th {\n        vertical-align: top;\n    }\n\n    .dataframe thead th {\n        text-align: right;\n    }\n</style>\n<table border=\"1\" class=\"dataframe\">\n  <thead>\n    <tr style=\"text-align: right;\">\n      <th></th>\n      <th>market</th>\n      <th>candle_date_time_utc</th>\n      <th>candle_date_time_kst</th>\n      <th>opening_price</th>\n      <th>high_price</th>\n      <th>low_price</th>\n      <th>trade_price</th>\n      <th>timestamp</th>\n      <th>candle_acc_trade_price</th>\n      <th>candle_acc_trade_volume</th>\n      <th>first_day_of_period</th>\n    </tr>\n  </thead>\n  <tbody>\n    <tr>\n      <th>0</th>\n      <td>KRW-BTC</td>\n      <td>2020-11-16T00:00:00</td>\n      <td>2020-11-16T09:00:00</td>\n      <td>17670000.0</td>\n      <td>21025000.0</td>\n      <td>17555000.0</td>\n      <td>20581000.0</td>\n      <td>1605957733792</td>\n      <td>7.222665e+11</td>\n      <td>36929.633352</td>\n      <td>2020-11-16</td>\n    </tr>\n    <tr>\n      <th>1</th>\n      <td>KRW-BTC</td>\n      <td>2020-11-09T00:00:00</td>\n      <td>2020-11-09T09:00:00</td>\n      <td>17276000.0</td>\n      <td>18225000.0</td>\n      <td>16695000.0</td>\n      <td>17670000.0</td>\n      <td>1605484800015</td>\n      <td>4.571559e+11</td>\n      <td>26147.444719</td>\n      <td>2020-11-09</td>\n    </tr>\n  </tbody>\n</table>\n</div>"
     },
     "metadata": {},
     "execution_count": 5
    }
   ],
   "source": [
    "upbit.upbitWeekCandle(market=market_code['market'][0], count=2)"
   ]
  },
  {
   "cell_type": "code",
   "execution_count": 6,
   "metadata": {},
   "outputs": [
    {
     "output_type": "execute_result",
     "data": {
      "text/plain": [
       "    market candle_date_time_utc candle_date_time_kst  opening_price  \\\n",
       "0  KRW-BTC  2020-11-01T00:00:00  2020-11-01T09:00:00     15606000.0   \n",
       "1  KRW-BTC  2020-10-01T00:00:00  2020-10-01T09:00:00     12562000.0   \n",
       "\n",
       "   high_price   low_price  trade_price      timestamp  candle_acc_trade_price  \\\n",
       "0  21025000.0  15011000.0   20546000.0  1605957895553            1.838290e+12   \n",
       "1  15800000.0  12205000.0   15606000.0  1604188798238            1.136674e+12   \n",
       "\n",
       "   candle_acc_trade_volume first_day_of_period  \n",
       "0            103013.774292          2020-11-01  \n",
       "1             81936.150069          2020-10-01  "
      ],
      "text/html": "<div>\n<style scoped>\n    .dataframe tbody tr th:only-of-type {\n        vertical-align: middle;\n    }\n\n    .dataframe tbody tr th {\n        vertical-align: top;\n    }\n\n    .dataframe thead th {\n        text-align: right;\n    }\n</style>\n<table border=\"1\" class=\"dataframe\">\n  <thead>\n    <tr style=\"text-align: right;\">\n      <th></th>\n      <th>market</th>\n      <th>candle_date_time_utc</th>\n      <th>candle_date_time_kst</th>\n      <th>opening_price</th>\n      <th>high_price</th>\n      <th>low_price</th>\n      <th>trade_price</th>\n      <th>timestamp</th>\n      <th>candle_acc_trade_price</th>\n      <th>candle_acc_trade_volume</th>\n      <th>first_day_of_period</th>\n    </tr>\n  </thead>\n  <tbody>\n    <tr>\n      <th>0</th>\n      <td>KRW-BTC</td>\n      <td>2020-11-01T00:00:00</td>\n      <td>2020-11-01T09:00:00</td>\n      <td>15606000.0</td>\n      <td>21025000.0</td>\n      <td>15011000.0</td>\n      <td>20546000.0</td>\n      <td>1605957895553</td>\n      <td>1.838290e+12</td>\n      <td>103013.774292</td>\n      <td>2020-11-01</td>\n    </tr>\n    <tr>\n      <th>1</th>\n      <td>KRW-BTC</td>\n      <td>2020-10-01T00:00:00</td>\n      <td>2020-10-01T09:00:00</td>\n      <td>12562000.0</td>\n      <td>15800000.0</td>\n      <td>12205000.0</td>\n      <td>15606000.0</td>\n      <td>1604188798238</td>\n      <td>1.136674e+12</td>\n      <td>81936.150069</td>\n      <td>2020-10-01</td>\n    </tr>\n  </tbody>\n</table>\n</div>"
     },
     "metadata": {},
     "execution_count": 6
    }
   ],
   "source": [
    "upbit.upbitMonthCandle(market=market_code['market'][0], count=2)"
   ]
  },
  {
   "cell_type": "code",
   "execution_count": 7,
   "metadata": {},
   "outputs": [
    {
     "output_type": "execute_result",
     "data": {
      "text/plain": [
       "    market trade_date_utc trade_time_utc      timestamp  trade_price  \\\n",
       "0  KRW-BTC     2020-11-21       11:31:39  1605958299000   20536000.0   \n",
       "1  KRW-BTC     2020-11-21       11:31:39  1605958299000   20536000.0   \n",
       "\n",
       "   trade_volume  prev_closing_price  change_price ask_bid     sequential_id  \n",
       "0      0.009003          20627000.0      -91000.0     ASK  1605958299000001  \n",
       "1      0.009003          20627000.0      -91000.0     ASK  1605958299000000  "
      ],
      "text/html": "<div>\n<style scoped>\n    .dataframe tbody tr th:only-of-type {\n        vertical-align: middle;\n    }\n\n    .dataframe tbody tr th {\n        vertical-align: top;\n    }\n\n    .dataframe thead th {\n        text-align: right;\n    }\n</style>\n<table border=\"1\" class=\"dataframe\">\n  <thead>\n    <tr style=\"text-align: right;\">\n      <th></th>\n      <th>market</th>\n      <th>trade_date_utc</th>\n      <th>trade_time_utc</th>\n      <th>timestamp</th>\n      <th>trade_price</th>\n      <th>trade_volume</th>\n      <th>prev_closing_price</th>\n      <th>change_price</th>\n      <th>ask_bid</th>\n      <th>sequential_id</th>\n    </tr>\n  </thead>\n  <tbody>\n    <tr>\n      <th>0</th>\n      <td>KRW-BTC</td>\n      <td>2020-11-21</td>\n      <td>11:31:39</td>\n      <td>1605958299000</td>\n      <td>20536000.0</td>\n      <td>0.009003</td>\n      <td>20627000.0</td>\n      <td>-91000.0</td>\n      <td>ASK</td>\n      <td>1605958299000001</td>\n    </tr>\n    <tr>\n      <th>1</th>\n      <td>KRW-BTC</td>\n      <td>2020-11-21</td>\n      <td>11:31:39</td>\n      <td>1605958299000</td>\n      <td>20536000.0</td>\n      <td>0.009003</td>\n      <td>20627000.0</td>\n      <td>-91000.0</td>\n      <td>ASK</td>\n      <td>1605958299000000</td>\n    </tr>\n  </tbody>\n</table>\n</div>"
     },
     "metadata": {},
     "execution_count": 7
    }
   ],
   "source": [
    "upbit.upbitTick(market=market_code['market'][0], count=2)"
   ]
  },
  {
   "cell_type": "code",
   "execution_count": 9,
   "metadata": {},
   "outputs": [],
   "source": [
    "market_order_info, orderbooks = upbit.upbitOrderbook(markets=market_code['market'][0])"
   ]
  },
  {
   "cell_type": "code",
   "execution_count": 10,
   "metadata": {},
   "outputs": [
    {
     "output_type": "execute_result",
     "data": {
      "text/plain": [
       "[{'market': 'KRW-BTC',\n",
       "  'timestamp': 1605958730556,\n",
       "  'total_ask_size': 4.22513362,\n",
       "  'total_bid_size': 7.07774816}]"
      ]
     },
     "metadata": {},
     "execution_count": 10
    }
   ],
   "source": [
    "market_order_info"
   ]
  },
  {
   "cell_type": "code",
   "execution_count": 11,
   "metadata": {},
   "outputs": [
    {
     "output_type": "execute_result",
     "data": {
      "text/plain": [
       "     ask_price   bid_price  ask_size  bid_size\n",
       "0   20542000.0  20541000.0  0.000054  0.013824\n",
       "1   20545000.0  20539000.0  0.345503  1.797068\n",
       "2   20546000.0  20538000.0  1.393070  0.278026\n",
       "3   20557000.0  20537000.0  0.182505  0.232800\n",
       "4   20560000.0  20536000.0  0.006234  0.249165\n",
       "5   20561000.0  20535000.0  0.061506  0.088643\n",
       "6   20562000.0  20534000.0  0.148402  2.993607\n",
       "7   20563000.0  20533000.0  0.001179  0.298539\n",
       "8   20565000.0  20532000.0  0.001051  0.218063\n",
       "9   20566000.0  20531000.0  1.637530  0.008796\n",
       "10  20567000.0  20530000.0  0.234778  0.627503\n",
       "11  20572000.0  20529000.0  0.183112  0.004860\n",
       "12  20575000.0  20528000.0  0.002000  0.018001\n",
       "13  20576000.0  20527000.0  0.027237  0.001156\n",
       "14  20578000.0  20526000.0  0.000972  0.247697"
      ],
      "text/html": "<div>\n<style scoped>\n    .dataframe tbody tr th:only-of-type {\n        vertical-align: middle;\n    }\n\n    .dataframe tbody tr th {\n        vertical-align: top;\n    }\n\n    .dataframe thead th {\n        text-align: right;\n    }\n</style>\n<table border=\"1\" class=\"dataframe\">\n  <thead>\n    <tr style=\"text-align: right;\">\n      <th></th>\n      <th>ask_price</th>\n      <th>bid_price</th>\n      <th>ask_size</th>\n      <th>bid_size</th>\n    </tr>\n  </thead>\n  <tbody>\n    <tr>\n      <th>0</th>\n      <td>20542000.0</td>\n      <td>20541000.0</td>\n      <td>0.000054</td>\n      <td>0.013824</td>\n    </tr>\n    <tr>\n      <th>1</th>\n      <td>20545000.0</td>\n      <td>20539000.0</td>\n      <td>0.345503</td>\n      <td>1.797068</td>\n    </tr>\n    <tr>\n      <th>2</th>\n      <td>20546000.0</td>\n      <td>20538000.0</td>\n      <td>1.393070</td>\n      <td>0.278026</td>\n    </tr>\n    <tr>\n      <th>3</th>\n      <td>20557000.0</td>\n      <td>20537000.0</td>\n      <td>0.182505</td>\n      <td>0.232800</td>\n    </tr>\n    <tr>\n      <th>4</th>\n      <td>20560000.0</td>\n      <td>20536000.0</td>\n      <td>0.006234</td>\n      <td>0.249165</td>\n    </tr>\n    <tr>\n      <th>5</th>\n      <td>20561000.0</td>\n      <td>20535000.0</td>\n      <td>0.061506</td>\n      <td>0.088643</td>\n    </tr>\n    <tr>\n      <th>6</th>\n      <td>20562000.0</td>\n      <td>20534000.0</td>\n      <td>0.148402</td>\n      <td>2.993607</td>\n    </tr>\n    <tr>\n      <th>7</th>\n      <td>20563000.0</td>\n      <td>20533000.0</td>\n      <td>0.001179</td>\n      <td>0.298539</td>\n    </tr>\n    <tr>\n      <th>8</th>\n      <td>20565000.0</td>\n      <td>20532000.0</td>\n      <td>0.001051</td>\n      <td>0.218063</td>\n    </tr>\n    <tr>\n      <th>9</th>\n      <td>20566000.0</td>\n      <td>20531000.0</td>\n      <td>1.637530</td>\n      <td>0.008796</td>\n    </tr>\n    <tr>\n      <th>10</th>\n      <td>20567000.0</td>\n      <td>20530000.0</td>\n      <td>0.234778</td>\n      <td>0.627503</td>\n    </tr>\n    <tr>\n      <th>11</th>\n      <td>20572000.0</td>\n      <td>20529000.0</td>\n      <td>0.183112</td>\n      <td>0.004860</td>\n    </tr>\n    <tr>\n      <th>12</th>\n      <td>20575000.0</td>\n      <td>20528000.0</td>\n      <td>0.002000</td>\n      <td>0.018001</td>\n    </tr>\n    <tr>\n      <th>13</th>\n      <td>20576000.0</td>\n      <td>20527000.0</td>\n      <td>0.027237</td>\n      <td>0.001156</td>\n    </tr>\n    <tr>\n      <th>14</th>\n      <td>20578000.0</td>\n      <td>20526000.0</td>\n      <td>0.000972</td>\n      <td>0.247697</td>\n    </tr>\n  </tbody>\n</table>\n</div>"
     },
     "metadata": {},
     "execution_count": 11
    }
   ],
   "source": [
    "orderbooks"
   ]
  },
  {
   "cell_type": "code",
   "execution_count": null,
   "metadata": {},
   "outputs": [],
   "source": []
  }
 ]
}