{
 "cells": [
  {
   "cell_type": "code",
   "execution_count": 31,
   "metadata": {
    "collapsed": true
   },
   "outputs": [],
   "source": [
    "import requests as rq\n",
    "import pandas as pd\n",
    "import json"
   ]
  },
  {
   "cell_type": "code",
   "execution_count": 32,
   "outputs": [],
   "source": [
    "otp_url = 'https://marketdata.krx.co.kr/contents/COM/GenerateOTP.jspx?bld=COM%2Ffinder_dellist_isu&name=form&_=1604145804003'\n",
    "header_data = {\n",
    "            'User-Agent': 'Chrome/78.0.3904.87 Safari/537.36',\n",
    "        }\n",
    "res = rq.get(otp_url, headers = header_data)\n",
    "otp = res.text"
   ],
   "metadata": {
    "collapsed": false,
    "pycharm": {
     "name": "#%%\n"
    }
   }
  },
  {
   "cell_type": "code",
   "execution_count": 33,
   "outputs": [],
   "source": [
    "url = 'https://marketdata.krx.co.kr/contents/MKD/99/MKD99000001.jspx'\n",
    "url_data = {\n",
    "    'mktsel': 'ALL',\n",
    "    'pagePath': '/contents/COM/FinderDelListIsu.jsp',\n",
    "    'code': otp\n",
    "}\n",
    "url_headers = {\n",
    "    'referer': 'https://marketdata.krx.co.kr/mdi',\n",
    "    'User-Agent': 'Chrome/78.0.3904.87 Safari/537.36',\n",
    "}"
   ],
   "metadata": {
    "collapsed": false,
    "pycharm": {
     "name": "#%%\n"
    }
   }
  },
  {
   "cell_type": "code",
   "execution_count": 34,
   "outputs": [],
   "source": [
    "result = rq.post(url, data=url_data, headers = url_headers)"
   ],
   "metadata": {
    "collapsed": false,
    "pycharm": {
     "name": "#%%\n"
    }
   }
  },
  {
   "cell_type": "code",
   "execution_count": 35,
   "outputs": [],
   "source": [
    "krx_delisting = pd.DataFrame(json.loads(result.text)['result'])"
   ],
   "metadata": {
    "collapsed": false,
    "pycharm": {
     "name": "#%%\n"
    }
   }
  },
  {
   "cell_type": "code",
   "execution_count": 36,
   "outputs": [
    {
     "data": {
      "text/plain": "            isu_cd    end_dd shrt_isu_cd  isu_abbrv     isu_nm market_name  \\\n0     KR7037730009  20040422     A037730         3R         3R      KOSDAQ   \n1     KRA060310125  20120521   J06031012         3S       3S R      KOSDAQ   \n2     KR7036360006  20090429     A036360      3SOFT      3SOFT      KOSDAQ   \n3     KYG887121070  20130605     A900010     3노드디지탈     3노드디지탈      KOSDAQ   \n4     KR7005760004  20090219     A005760       ACTS    위너스인프라인       KOSPI   \n...            ...       ...         ...        ...        ...         ...   \n4785  KR7019640010  19981229     A019641      희훈디앤지       희훈1신      KOSDAQ   \n4786  KR7019640028  19981229     A019642      희훈디앤지       희훈2신      KOSDAQ   \n4787  KR7123160004  20130118     A123160  히든챔피언스팩1호  히든챔피언스팩1호      KOSDAQ   \n4788  KR7036840007  20110915     A036840      히스토스템      히스토스템      KOSDAQ   \n4789  KR7181980004  20150415     A181980    힘스인터내셔널    힘스인터내셔널       KONEX   \n\n     delist_dd  \n0     20040422  \n1     20120521  \n2     20090429  \n3     20130605  \n4     20090219  \n...        ...  \n4785  19981229  \n4786  19981229  \n4787  20130118  \n4788  20110915  \n4789  20150415  \n\n[4790 rows x 7 columns]",
      "text/html": "<div>\n<style scoped>\n    .dataframe tbody tr th:only-of-type {\n        vertical-align: middle;\n    }\n\n    .dataframe tbody tr th {\n        vertical-align: top;\n    }\n\n    .dataframe thead th {\n        text-align: right;\n    }\n</style>\n<table border=\"1\" class=\"dataframe\">\n  <thead>\n    <tr style=\"text-align: right;\">\n      <th></th>\n      <th>isu_cd</th>\n      <th>end_dd</th>\n      <th>shrt_isu_cd</th>\n      <th>isu_abbrv</th>\n      <th>isu_nm</th>\n      <th>market_name</th>\n      <th>delist_dd</th>\n    </tr>\n  </thead>\n  <tbody>\n    <tr>\n      <th>0</th>\n      <td>KR7037730009</td>\n      <td>20040422</td>\n      <td>A037730</td>\n      <td>3R</td>\n      <td>3R</td>\n      <td>KOSDAQ</td>\n      <td>20040422</td>\n    </tr>\n    <tr>\n      <th>1</th>\n      <td>KRA060310125</td>\n      <td>20120521</td>\n      <td>J06031012</td>\n      <td>3S</td>\n      <td>3S R</td>\n      <td>KOSDAQ</td>\n      <td>20120521</td>\n    </tr>\n    <tr>\n      <th>2</th>\n      <td>KR7036360006</td>\n      <td>20090429</td>\n      <td>A036360</td>\n      <td>3SOFT</td>\n      <td>3SOFT</td>\n      <td>KOSDAQ</td>\n      <td>20090429</td>\n    </tr>\n    <tr>\n      <th>3</th>\n      <td>KYG887121070</td>\n      <td>20130605</td>\n      <td>A900010</td>\n      <td>3노드디지탈</td>\n      <td>3노드디지탈</td>\n      <td>KOSDAQ</td>\n      <td>20130605</td>\n    </tr>\n    <tr>\n      <th>4</th>\n      <td>KR7005760004</td>\n      <td>20090219</td>\n      <td>A005760</td>\n      <td>ACTS</td>\n      <td>위너스인프라인</td>\n      <td>KOSPI</td>\n      <td>20090219</td>\n    </tr>\n    <tr>\n      <th>...</th>\n      <td>...</td>\n      <td>...</td>\n      <td>...</td>\n      <td>...</td>\n      <td>...</td>\n      <td>...</td>\n      <td>...</td>\n    </tr>\n    <tr>\n      <th>4785</th>\n      <td>KR7019640010</td>\n      <td>19981229</td>\n      <td>A019641</td>\n      <td>희훈디앤지</td>\n      <td>희훈1신</td>\n      <td>KOSDAQ</td>\n      <td>19981229</td>\n    </tr>\n    <tr>\n      <th>4786</th>\n      <td>KR7019640028</td>\n      <td>19981229</td>\n      <td>A019642</td>\n      <td>희훈디앤지</td>\n      <td>희훈2신</td>\n      <td>KOSDAQ</td>\n      <td>19981229</td>\n    </tr>\n    <tr>\n      <th>4787</th>\n      <td>KR7123160004</td>\n      <td>20130118</td>\n      <td>A123160</td>\n      <td>히든챔피언스팩1호</td>\n      <td>히든챔피언스팩1호</td>\n      <td>KOSDAQ</td>\n      <td>20130118</td>\n    </tr>\n    <tr>\n      <th>4788</th>\n      <td>KR7036840007</td>\n      <td>20110915</td>\n      <td>A036840</td>\n      <td>히스토스템</td>\n      <td>히스토스템</td>\n      <td>KOSDAQ</td>\n      <td>20110915</td>\n    </tr>\n    <tr>\n      <th>4789</th>\n      <td>KR7181980004</td>\n      <td>20150415</td>\n      <td>A181980</td>\n      <td>힘스인터내셔널</td>\n      <td>힘스인터내셔널</td>\n      <td>KONEX</td>\n      <td>20150415</td>\n    </tr>\n  </tbody>\n</table>\n<p>4790 rows × 7 columns</p>\n</div>"
     },
     "execution_count": 36,
     "metadata": {},
     "output_type": "execute_result"
    }
   ],
   "source": [
    "krx_delisting"
   ],
   "metadata": {
    "collapsed": false,
    "pycharm": {
     "name": "#%%\n"
    }
   }
  },
  {
   "cell_type": "code",
   "execution_count": null,
   "outputs": [],
   "source": [],
   "metadata": {
    "collapsed": false,
    "pycharm": {
     "name": "#%%\n"
    }
   }
  }
 ],
 "metadata": {
  "kernelspec": {
   "display_name": "Python 3",
   "language": "python",
   "name": "python3"
  },
  "language_info": {
   "codemirror_mode": {
    "name": "ipython",
    "version": 2
   },
   "file_extension": ".py",
   "mimetype": "text/x-python",
   "name": "python",
   "nbconvert_exporter": "python",
   "pygments_lexer": "ipython2",
   "version": "2.7.6"
  }
 },
 "nbformat": 4,
 "nbformat_minor": 0
}