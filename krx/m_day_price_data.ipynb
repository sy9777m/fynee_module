{
 "cells": [
  {
   "cell_type": "code",
   "execution_count": 75,
   "metadata": {
    "collapsed": true
   },
   "outputs": [],
   "source": [
    "import requests as rq\n",
    "import pandas as pd\n",
    "from bs4 import BeautifulSoup as bs\n",
    "import re\n",
    "from datetime import date"
   ]
  },
  {
   "cell_type": "code",
   "execution_count": 76,
   "outputs": [],
   "source": [
    "first_day = date(1990, 1, 3)\n",
    "today = date.today()\n",
    "\n",
    "request_days = (today - first_day).days"
   ],
   "metadata": {
    "collapsed": false,
    "pycharm": {
     "name": "#%%\n"
    }
   }
  },
  {
   "cell_type": "code",
   "execution_count": 77,
   "outputs": [],
   "source": [
    "url = 'https://fchart.stock.naver.com/sise.nhn?symbol=005930&timeframe=day&count=' + str(request_days) + '&requestType=0'\n",
    "url_header = {\n",
    "    'User-Agent': 'Chrome/86.0.4240.111 Safari/537.36',\n",
    "}"
   ],
   "metadata": {
    "collapsed": false,
    "pycharm": {
     "name": "#%%\n"
    }
   }
  },
  {
   "cell_type": "code",
   "execution_count": 78,
   "outputs": [],
   "source": [
    "res = rq.get(url, headers = url_header)\n",
    "parse = bs(res.content)"
   ],
   "metadata": {
    "collapsed": false,
    "pycharm": {
     "name": "#%%\n"
    }
   }
  },
  {
   "cell_type": "code",
   "execution_count": 79,
   "outputs": [],
   "source": [
    "items = parse.find_all('item')"
   ],
   "metadata": {
    "collapsed": false,
    "pycharm": {
     "name": "#%%\n"
    }
   }
  },
  {
   "cell_type": "code",
   "execution_count": 80,
   "outputs": [],
   "source": [
    "price_df_columns = ['date', 'open', 'high', 'low', 'close', 'volume']\n",
    "day_price_df = pd.DataFrame(None, columns=price_df_columns)"
   ],
   "metadata": {
    "collapsed": false,
    "pycharm": {
     "name": "#%%\n"
    }
   }
  },
  {
   "cell_type": "code",
   "execution_count": 81,
   "outputs": [],
   "source": [
    "for i in items:\n",
    "    data = i.attrs['data'].split('|')\n",
    "    temp_dict = {}\n",
    "    for index, data in enumerate(data):\n",
    "        temp_dict[price_df_columns[index]] = data\n",
    "    day_price_df = day_price_df.append(temp_dict, ignore_index=True)"
   ],
   "metadata": {
    "collapsed": false,
    "pycharm": {
     "name": "#%%\n"
    }
   }
  },
  {
   "cell_type": "code",
   "execution_count": 82,
   "outputs": [
    {
     "data": {
      "text/plain": "          date   open   high    low  close    volume\n0     19900103  44000  45000  43200  44800     26240\n1     19900104  45000  45800  44800  45300     41900\n2     19900105  45000  45300  44300  44300     27400\n3     19900106  44800  45000  44500  44500     26380\n4     19900108  44500  44900  44000  44000     14790\n...        ...    ...    ...    ...    ...       ...\n8029  20201030  58000  58000  56600  56600  26907844\n8030  20201102  56400  57500  56000  57400  20489076\n8031  20201103  57900  58900  57600  58800  14950919\n8032  20201104  58900  59000  57800  58500  21718561\n8033  20201105  59000  60300  58800  60300  20336330\n\n[8034 rows x 6 columns]",
      "text/html": "<div>\n<style scoped>\n    .dataframe tbody tr th:only-of-type {\n        vertical-align: middle;\n    }\n\n    .dataframe tbody tr th {\n        vertical-align: top;\n    }\n\n    .dataframe thead th {\n        text-align: right;\n    }\n</style>\n<table border=\"1\" class=\"dataframe\">\n  <thead>\n    <tr style=\"text-align: right;\">\n      <th></th>\n      <th>date</th>\n      <th>open</th>\n      <th>high</th>\n      <th>low</th>\n      <th>close</th>\n      <th>volume</th>\n    </tr>\n  </thead>\n  <tbody>\n    <tr>\n      <th>0</th>\n      <td>19900103</td>\n      <td>44000</td>\n      <td>45000</td>\n      <td>43200</td>\n      <td>44800</td>\n      <td>26240</td>\n    </tr>\n    <tr>\n      <th>1</th>\n      <td>19900104</td>\n      <td>45000</td>\n      <td>45800</td>\n      <td>44800</td>\n      <td>45300</td>\n      <td>41900</td>\n    </tr>\n    <tr>\n      <th>2</th>\n      <td>19900105</td>\n      <td>45000</td>\n      <td>45300</td>\n      <td>44300</td>\n      <td>44300</td>\n      <td>27400</td>\n    </tr>\n    <tr>\n      <th>3</th>\n      <td>19900106</td>\n      <td>44800</td>\n      <td>45000</td>\n      <td>44500</td>\n      <td>44500</td>\n      <td>26380</td>\n    </tr>\n    <tr>\n      <th>4</th>\n      <td>19900108</td>\n      <td>44500</td>\n      <td>44900</td>\n      <td>44000</td>\n      <td>44000</td>\n      <td>14790</td>\n    </tr>\n    <tr>\n      <th>...</th>\n      <td>...</td>\n      <td>...</td>\n      <td>...</td>\n      <td>...</td>\n      <td>...</td>\n      <td>...</td>\n    </tr>\n    <tr>\n      <th>8029</th>\n      <td>20201030</td>\n      <td>58000</td>\n      <td>58000</td>\n      <td>56600</td>\n      <td>56600</td>\n      <td>26907844</td>\n    </tr>\n    <tr>\n      <th>8030</th>\n      <td>20201102</td>\n      <td>56400</td>\n      <td>57500</td>\n      <td>56000</td>\n      <td>57400</td>\n      <td>20489076</td>\n    </tr>\n    <tr>\n      <th>8031</th>\n      <td>20201103</td>\n      <td>57900</td>\n      <td>58900</td>\n      <td>57600</td>\n      <td>58800</td>\n      <td>14950919</td>\n    </tr>\n    <tr>\n      <th>8032</th>\n      <td>20201104</td>\n      <td>58900</td>\n      <td>59000</td>\n      <td>57800</td>\n      <td>58500</td>\n      <td>21718561</td>\n    </tr>\n    <tr>\n      <th>8033</th>\n      <td>20201105</td>\n      <td>59000</td>\n      <td>60300</td>\n      <td>58800</td>\n      <td>60300</td>\n      <td>20336330</td>\n    </tr>\n  </tbody>\n</table>\n<p>8034 rows × 6 columns</p>\n</div>"
     },
     "execution_count": 82,
     "metadata": {},
     "output_type": "execute_result"
    }
   ],
   "source": [
    "day_price_df"
   ],
   "metadata": {
    "collapsed": false,
    "pycharm": {
     "name": "#%%\n"
    }
   }
  },
  {
   "cell_type": "code",
   "execution_count": null,
   "outputs": [],
   "source": [
    "\n"
   ],
   "metadata": {
    "collapsed": false,
    "pycharm": {
     "name": "#%%\n"
    }
   }
  }
 ],
 "metadata": {
  "kernelspec": {
   "display_name": "Python 3",
   "language": "python",
   "name": "python3"
  },
  "language_info": {
   "codemirror_mode": {
    "name": "ipython",
    "version": 2
   },
   "file_extension": ".py",
   "mimetype": "text/x-python",
   "name": "python",
   "nbconvert_exporter": "python",
   "pygments_lexer": "ipython2",
   "version": "2.7.6"
  }
 },
 "nbformat": 4,
 "nbformat_minor": 0
}