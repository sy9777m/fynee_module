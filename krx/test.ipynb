{
 "cells": [
  {
   "cell_type": "code",
   "execution_count": 1,
   "metadata": {
    "collapsed": true
   },
   "outputs": [],
   "source": [
    "import FinanceDataReader as fdr"
   ]
  },
  {
   "cell_type": "code",
   "execution_count": 2,
   "outputs": [
    {
     "data": {
      "text/plain": "      Symbol  Market     Name                    Sector  \\\n0     060310  KOSDAQ       3S             특수 목적용 기계 제조업   \n1     095570   KOSPI   AJ네트웍스           산업용 기계 및 장비 임대업   \n2     006840   KOSPI    AK홀딩스                    기타 금융업   \n3     054620  KOSDAQ   APS홀딩스                    기타 금융업   \n4     265520  KOSDAQ    AP시스템             특수 목적용 기계 제조업   \n...      ...     ...      ...                       ...   \n2583  000547   KOSPI  흥국화재2우B                       NaN   \n2584  000545   KOSPI    흥국화재우                       NaN   \n2585  003280   KOSPI     흥아해운                    해상 운송업   \n2586  037440  KOSDAQ       희림  건축기술, 엔지니어링 및 관련 기술 서비스업   \n2587  238490  KOSDAQ       힘스             특수 목적용 기계 제조업   \n\n                            Industry ListingDate SettleMonth  \\\n0                        반도체 웨이퍼 캐리어  2002-04-23         03월   \n1                렌탈(파렛트, OA장비, 건설장비)  2015-08-21         12월   \n2                               지주사업  1999-08-11         12월   \n3                        인터넷 트래픽 솔루션  2001-12-04         12월   \n4                        디스플레이 제조 장비  2017-04-07         12월   \n...                              ...         ...         ...   \n2583                             NaN         NaT         NaN   \n2584                             NaN         NaT         NaN   \n2585                  외항화물운송업(케미컬탱커)  1976-06-29         12월   \n2586                       설계 및 감리용역  2000-02-03         12월   \n2587  OLED Mask 인장기, OLED Mask 검사기 등  2017-07-20         12월   \n\n                 Representative                       HomePage Region  \n0            박종익, 김세완 (각자 대표이사)           http://www.3sref.com  서울특별시  \n1                           이현우         http://www.ajnet.co.kr  서울특별시  \n2             채형석, 이석주(각자 대표이사)  http://www.aekyunggroup.co.kr  서울특별시  \n3                           정기로   http://www.apsholdings.co.kr    경기도  \n4                           김영주     http://www.apsystems.co.kr    경기도  \n...                         ...                            ...    ...  \n2583                        NaN                            NaN    NaN  \n2584                        NaN                            NaN    NaN  \n2585                        이환구         http://www.heung-a.com  서울특별시  \n2586  정영균, 이목운, 허철호, 염두성 (각자대표)          http://www.heerim.com  서울특별시  \n2587                        김주환          http://www.hims.co.kr  인천광역시  \n\n[2588 rows x 10 columns]",
      "text/html": "<div>\n<style scoped>\n    .dataframe tbody tr th:only-of-type {\n        vertical-align: middle;\n    }\n\n    .dataframe tbody tr th {\n        vertical-align: top;\n    }\n\n    .dataframe thead th {\n        text-align: right;\n    }\n</style>\n<table border=\"1\" class=\"dataframe\">\n  <thead>\n    <tr style=\"text-align: right;\">\n      <th></th>\n      <th>Symbol</th>\n      <th>Market</th>\n      <th>Name</th>\n      <th>Sector</th>\n      <th>Industry</th>\n      <th>ListingDate</th>\n      <th>SettleMonth</th>\n      <th>Representative</th>\n      <th>HomePage</th>\n      <th>Region</th>\n    </tr>\n  </thead>\n  <tbody>\n    <tr>\n      <th>0</th>\n      <td>060310</td>\n      <td>KOSDAQ</td>\n      <td>3S</td>\n      <td>특수 목적용 기계 제조업</td>\n      <td>반도체 웨이퍼 캐리어</td>\n      <td>2002-04-23</td>\n      <td>03월</td>\n      <td>박종익, 김세완 (각자 대표이사)</td>\n      <td>http://www.3sref.com</td>\n      <td>서울특별시</td>\n    </tr>\n    <tr>\n      <th>1</th>\n      <td>095570</td>\n      <td>KOSPI</td>\n      <td>AJ네트웍스</td>\n      <td>산업용 기계 및 장비 임대업</td>\n      <td>렌탈(파렛트, OA장비, 건설장비)</td>\n      <td>2015-08-21</td>\n      <td>12월</td>\n      <td>이현우</td>\n      <td>http://www.ajnet.co.kr</td>\n      <td>서울특별시</td>\n    </tr>\n    <tr>\n      <th>2</th>\n      <td>006840</td>\n      <td>KOSPI</td>\n      <td>AK홀딩스</td>\n      <td>기타 금융업</td>\n      <td>지주사업</td>\n      <td>1999-08-11</td>\n      <td>12월</td>\n      <td>채형석, 이석주(각자 대표이사)</td>\n      <td>http://www.aekyunggroup.co.kr</td>\n      <td>서울특별시</td>\n    </tr>\n    <tr>\n      <th>3</th>\n      <td>054620</td>\n      <td>KOSDAQ</td>\n      <td>APS홀딩스</td>\n      <td>기타 금융업</td>\n      <td>인터넷 트래픽 솔루션</td>\n      <td>2001-12-04</td>\n      <td>12월</td>\n      <td>정기로</td>\n      <td>http://www.apsholdings.co.kr</td>\n      <td>경기도</td>\n    </tr>\n    <tr>\n      <th>4</th>\n      <td>265520</td>\n      <td>KOSDAQ</td>\n      <td>AP시스템</td>\n      <td>특수 목적용 기계 제조업</td>\n      <td>디스플레이 제조 장비</td>\n      <td>2017-04-07</td>\n      <td>12월</td>\n      <td>김영주</td>\n      <td>http://www.apsystems.co.kr</td>\n      <td>경기도</td>\n    </tr>\n    <tr>\n      <th>...</th>\n      <td>...</td>\n      <td>...</td>\n      <td>...</td>\n      <td>...</td>\n      <td>...</td>\n      <td>...</td>\n      <td>...</td>\n      <td>...</td>\n      <td>...</td>\n      <td>...</td>\n    </tr>\n    <tr>\n      <th>2583</th>\n      <td>000547</td>\n      <td>KOSPI</td>\n      <td>흥국화재2우B</td>\n      <td>NaN</td>\n      <td>NaN</td>\n      <td>NaT</td>\n      <td>NaN</td>\n      <td>NaN</td>\n      <td>NaN</td>\n      <td>NaN</td>\n    </tr>\n    <tr>\n      <th>2584</th>\n      <td>000545</td>\n      <td>KOSPI</td>\n      <td>흥국화재우</td>\n      <td>NaN</td>\n      <td>NaN</td>\n      <td>NaT</td>\n      <td>NaN</td>\n      <td>NaN</td>\n      <td>NaN</td>\n      <td>NaN</td>\n    </tr>\n    <tr>\n      <th>2585</th>\n      <td>003280</td>\n      <td>KOSPI</td>\n      <td>흥아해운</td>\n      <td>해상 운송업</td>\n      <td>외항화물운송업(케미컬탱커)</td>\n      <td>1976-06-29</td>\n      <td>12월</td>\n      <td>이환구</td>\n      <td>http://www.heung-a.com</td>\n      <td>서울특별시</td>\n    </tr>\n    <tr>\n      <th>2586</th>\n      <td>037440</td>\n      <td>KOSDAQ</td>\n      <td>희림</td>\n      <td>건축기술, 엔지니어링 및 관련 기술 서비스업</td>\n      <td>설계 및 감리용역</td>\n      <td>2000-02-03</td>\n      <td>12월</td>\n      <td>정영균, 이목운, 허철호, 염두성 (각자대표)</td>\n      <td>http://www.heerim.com</td>\n      <td>서울특별시</td>\n    </tr>\n    <tr>\n      <th>2587</th>\n      <td>238490</td>\n      <td>KOSDAQ</td>\n      <td>힘스</td>\n      <td>특수 목적용 기계 제조업</td>\n      <td>OLED Mask 인장기, OLED Mask 검사기 등</td>\n      <td>2017-07-20</td>\n      <td>12월</td>\n      <td>김주환</td>\n      <td>http://www.hims.co.kr</td>\n      <td>인천광역시</td>\n    </tr>\n  </tbody>\n</table>\n<p>2588 rows × 10 columns</p>\n</div>"
     },
     "execution_count": 2,
     "metadata": {},
     "output_type": "execute_result"
    }
   ],
   "source": [
    "fdr.StockListing('KRX')"
   ],
   "metadata": {
    "collapsed": false,
    "pycharm": {
     "name": "#%%\n"
    }
   }
  },
  {
   "cell_type": "code",
   "execution_count": null,
   "outputs": [],
   "source": [],
   "metadata": {
    "collapsed": false,
    "pycharm": {
     "name": "#%%\n"
    }
   }
  }
 ],
 "metadata": {
  "kernelspec": {
   "display_name": "Python 3",
   "language": "python",
   "name": "python3"
  },
  "language_info": {
   "codemirror_mode": {
    "name": "ipython",
    "version": 2
   },
   "file_extension": ".py",
   "mimetype": "text/x-python",
   "name": "python",
   "nbconvert_exporter": "python",
   "pygments_lexer": "ipython2",
   "version": "2.7.6"
  }
 },
 "nbformat": 4,
 "nbformat_minor": 0
}