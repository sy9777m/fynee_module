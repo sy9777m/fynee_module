{
 "cells": [
  {
   "cell_type": "code",
   "execution_count": 6,
   "metadata": {
    "collapsed": true
   },
   "outputs": [],
   "source": [
    "import requests as rq\n",
    "import pandas as pd\n",
    "import io"
   ]
  },
  {
   "cell_type": "code",
   "execution_count": 7,
   "outputs": [],
   "source": [
    "otp_url = 'https://marketdata.krx.co.kr/contents/COM/GenerateOTP.jspx?name=fileDown&filetype=csv&url=MKD/04/0406/04060200/mkd04060200&pagePath=%2Fcontents%2FMKD%2F04%2F0406%2F04060200%2FMKD04060200.jsp' \\\n",
    "          + '&market_gubun=' + 'ALL' \\\n",
    "          + '&sect_tp_cd=' + 'ALL' \\\n",
    "          + '&isu_cdnm=' + '전체' \\\n",
    "          + '&secugrp=' + 'ST' \\\n",
    "          + '&stock_gubun=' + 'on' \\\n",
    "          + '&schdate=' + '20201030'\n",
    "\n",
    "otp_header = {\n",
    "    'User-Agent': 'Chrome/86.0.4240.111 Safari/537.36',\n",
    "    'referer': 'https://marketdata.krx.co.kr/mdi',\n",
    "}"
   ],
   "metadata": {
    "collapsed": false,
    "pycharm": {
     "name": "#%%\n"
    }
   }
  },
  {
   "cell_type": "code",
   "execution_count": 8,
   "outputs": [],
   "source": [
    "res = rq.get(otp_url, headers = otp_header)\n",
    "otp = res.text"
   ],
   "metadata": {
    "collapsed": false,
    "pycharm": {
     "name": "#%%\n"
    }
   }
  },
  {
   "cell_type": "code",
   "execution_count": 9,
   "outputs": [],
   "source": [
    "url = 'https://file.krx.co.kr/download.jspx'\n",
    "url_data = {\n",
    "    'code': otp\n",
    "}\n",
    "url_header = {\n",
    "    'User-Agent': 'Chrome/78.0.3904.87 Safari/537.36',\n",
    "    'referer': 'https://marketdata.krx.co.kr/'\n",
    "}"
   ],
   "metadata": {
    "collapsed": false,
    "pycharm": {
     "name": "#%%\n"
    }
   }
  },
  {
   "cell_type": "code",
   "execution_count": 10,
   "outputs": [],
   "source": [
    "result = rq.post(url, data = url_data, headers = url_header)"
   ],
   "metadata": {
    "collapsed": false,
    "pycharm": {
     "name": "#%%\n"
    }
   }
  },
  {
   "cell_type": "code",
   "execution_count": 11,
   "outputs": [],
   "source": [
    "krx_listing = pd.read_csv(io.BytesIO(result.content))"
   ],
   "metadata": {
    "collapsed": false,
    "pycharm": {
     "name": "#%%\n"
    }
   }
  },
  {
   "cell_type": "code",
   "execution_count": 12,
   "outputs": [
    {
     "data": {
      "text/plain": "        종목코드      종목명     현재가      대비  등락률(%)    매도호가    매수호가   거래량(주)  \\\n0     060310       3S   2,050      15    0.74   2,050   2,045   75,431   \n1     095570   AJ네트웍스   3,570     -10    0.28   3,570   3,560  171,247   \n2     006840    AK홀딩스  17,100    -400    2.29  17,150  17,100   29,593   \n3     054620   APS홀딩스   6,800    -290    4.09   6,800   6,780  297,117   \n4     265520    AP시스템  20,950    -650    3.01  21,000  20,950  132,722   \n...      ...      ...     ...     ...     ...     ...     ...      ...   \n2502  000547  흥국화재2우B  23,000       0    0.00  23,000  22,950    1,835   \n2503  000545    흥국화재우  16,800  -1,250    6.93  16,800  16,750  252,047   \n2504  003280     흥아해운     258       0    0.00       0       0        0   \n2505  037440       희림   3,715      25    0.68   3,715   3,690   19,391   \n2506  238490       힘스  12,750    -500    3.77  12,800  12,750  141,528   \n\n            거래대금(원)      시가      고가      저가    액면가    통화구분     상장주식수(주)  \\\n0       153,385,155   2,035   2,055   2,015    500  원(KRW)   44,802,511   \n1       621,604,200   3,580   3,630   3,555  1,000  원(KRW)   46,822,295   \n2       512,899,050  17,500  17,750  17,050  5,000  원(KRW)   13,247,561   \n3     2,035,997,290   7,090   7,200   6,690    500  원(KRW)   20,394,221   \n4     2,812,103,650  21,550  21,600  20,950    500  원(KRW)   14,480,227   \n...             ...     ...     ...     ...    ...     ...          ...   \n2502     42,343,150  22,900  23,600  22,750  5,000  원(KRW)      153,600   \n2503  4,453,939,250  18,800  19,100  16,750  5,000  원(KRW)      768,000   \n2504              0       0       0       0    500  원(KRW)  116,732,559   \n2505     70,857,315   3,685   3,715   3,625    500  원(KRW)   13,922,475   \n2506  1,852,960,200  13,300  13,500  12,750    500  원(KRW)   11,312,236   \n\n            상장시가총액(원)    총카운트  \n0      91,845,147,550  2507.0  \n1     167,155,593,150     NaN  \n2     226,533,293,100     NaN  \n3     138,680,702,800     NaN  \n4     303,360,755,650     NaN  \n...               ...     ...  \n2502    3,532,800,000     NaN  \n2503   12,902,400,000     NaN  \n2504   30,117,000,222     NaN  \n2505   51,721,994,625     NaN  \n2506  144,231,009,000     NaN  \n\n[2507 rows x 17 columns]",
      "text/html": "<div>\n<style scoped>\n    .dataframe tbody tr th:only-of-type {\n        vertical-align: middle;\n    }\n\n    .dataframe tbody tr th {\n        vertical-align: top;\n    }\n\n    .dataframe thead th {\n        text-align: right;\n    }\n</style>\n<table border=\"1\" class=\"dataframe\">\n  <thead>\n    <tr style=\"text-align: right;\">\n      <th></th>\n      <th>종목코드</th>\n      <th>종목명</th>\n      <th>현재가</th>\n      <th>대비</th>\n      <th>등락률(%)</th>\n      <th>매도호가</th>\n      <th>매수호가</th>\n      <th>거래량(주)</th>\n      <th>거래대금(원)</th>\n      <th>시가</th>\n      <th>고가</th>\n      <th>저가</th>\n      <th>액면가</th>\n      <th>통화구분</th>\n      <th>상장주식수(주)</th>\n      <th>상장시가총액(원)</th>\n      <th>총카운트</th>\n    </tr>\n  </thead>\n  <tbody>\n    <tr>\n      <th>0</th>\n      <td>060310</td>\n      <td>3S</td>\n      <td>2,050</td>\n      <td>15</td>\n      <td>0.74</td>\n      <td>2,050</td>\n      <td>2,045</td>\n      <td>75,431</td>\n      <td>153,385,155</td>\n      <td>2,035</td>\n      <td>2,055</td>\n      <td>2,015</td>\n      <td>500</td>\n      <td>원(KRW)</td>\n      <td>44,802,511</td>\n      <td>91,845,147,550</td>\n      <td>2507.0</td>\n    </tr>\n    <tr>\n      <th>1</th>\n      <td>095570</td>\n      <td>AJ네트웍스</td>\n      <td>3,570</td>\n      <td>-10</td>\n      <td>0.28</td>\n      <td>3,570</td>\n      <td>3,560</td>\n      <td>171,247</td>\n      <td>621,604,200</td>\n      <td>3,580</td>\n      <td>3,630</td>\n      <td>3,555</td>\n      <td>1,000</td>\n      <td>원(KRW)</td>\n      <td>46,822,295</td>\n      <td>167,155,593,150</td>\n      <td>NaN</td>\n    </tr>\n    <tr>\n      <th>2</th>\n      <td>006840</td>\n      <td>AK홀딩스</td>\n      <td>17,100</td>\n      <td>-400</td>\n      <td>2.29</td>\n      <td>17,150</td>\n      <td>17,100</td>\n      <td>29,593</td>\n      <td>512,899,050</td>\n      <td>17,500</td>\n      <td>17,750</td>\n      <td>17,050</td>\n      <td>5,000</td>\n      <td>원(KRW)</td>\n      <td>13,247,561</td>\n      <td>226,533,293,100</td>\n      <td>NaN</td>\n    </tr>\n    <tr>\n      <th>3</th>\n      <td>054620</td>\n      <td>APS홀딩스</td>\n      <td>6,800</td>\n      <td>-290</td>\n      <td>4.09</td>\n      <td>6,800</td>\n      <td>6,780</td>\n      <td>297,117</td>\n      <td>2,035,997,290</td>\n      <td>7,090</td>\n      <td>7,200</td>\n      <td>6,690</td>\n      <td>500</td>\n      <td>원(KRW)</td>\n      <td>20,394,221</td>\n      <td>138,680,702,800</td>\n      <td>NaN</td>\n    </tr>\n    <tr>\n      <th>4</th>\n      <td>265520</td>\n      <td>AP시스템</td>\n      <td>20,950</td>\n      <td>-650</td>\n      <td>3.01</td>\n      <td>21,000</td>\n      <td>20,950</td>\n      <td>132,722</td>\n      <td>2,812,103,650</td>\n      <td>21,550</td>\n      <td>21,600</td>\n      <td>20,950</td>\n      <td>500</td>\n      <td>원(KRW)</td>\n      <td>14,480,227</td>\n      <td>303,360,755,650</td>\n      <td>NaN</td>\n    </tr>\n    <tr>\n      <th>...</th>\n      <td>...</td>\n      <td>...</td>\n      <td>...</td>\n      <td>...</td>\n      <td>...</td>\n      <td>...</td>\n      <td>...</td>\n      <td>...</td>\n      <td>...</td>\n      <td>...</td>\n      <td>...</td>\n      <td>...</td>\n      <td>...</td>\n      <td>...</td>\n      <td>...</td>\n      <td>...</td>\n      <td>...</td>\n    </tr>\n    <tr>\n      <th>2502</th>\n      <td>000547</td>\n      <td>흥국화재2우B</td>\n      <td>23,000</td>\n      <td>0</td>\n      <td>0.00</td>\n      <td>23,000</td>\n      <td>22,950</td>\n      <td>1,835</td>\n      <td>42,343,150</td>\n      <td>22,900</td>\n      <td>23,600</td>\n      <td>22,750</td>\n      <td>5,000</td>\n      <td>원(KRW)</td>\n      <td>153,600</td>\n      <td>3,532,800,000</td>\n      <td>NaN</td>\n    </tr>\n    <tr>\n      <th>2503</th>\n      <td>000545</td>\n      <td>흥국화재우</td>\n      <td>16,800</td>\n      <td>-1,250</td>\n      <td>6.93</td>\n      <td>16,800</td>\n      <td>16,750</td>\n      <td>252,047</td>\n      <td>4,453,939,250</td>\n      <td>18,800</td>\n      <td>19,100</td>\n      <td>16,750</td>\n      <td>5,000</td>\n      <td>원(KRW)</td>\n      <td>768,000</td>\n      <td>12,902,400,000</td>\n      <td>NaN</td>\n    </tr>\n    <tr>\n      <th>2504</th>\n      <td>003280</td>\n      <td>흥아해운</td>\n      <td>258</td>\n      <td>0</td>\n      <td>0.00</td>\n      <td>0</td>\n      <td>0</td>\n      <td>0</td>\n      <td>0</td>\n      <td>0</td>\n      <td>0</td>\n      <td>0</td>\n      <td>500</td>\n      <td>원(KRW)</td>\n      <td>116,732,559</td>\n      <td>30,117,000,222</td>\n      <td>NaN</td>\n    </tr>\n    <tr>\n      <th>2505</th>\n      <td>037440</td>\n      <td>희림</td>\n      <td>3,715</td>\n      <td>25</td>\n      <td>0.68</td>\n      <td>3,715</td>\n      <td>3,690</td>\n      <td>19,391</td>\n      <td>70,857,315</td>\n      <td>3,685</td>\n      <td>3,715</td>\n      <td>3,625</td>\n      <td>500</td>\n      <td>원(KRW)</td>\n      <td>13,922,475</td>\n      <td>51,721,994,625</td>\n      <td>NaN</td>\n    </tr>\n    <tr>\n      <th>2506</th>\n      <td>238490</td>\n      <td>힘스</td>\n      <td>12,750</td>\n      <td>-500</td>\n      <td>3.77</td>\n      <td>12,800</td>\n      <td>12,750</td>\n      <td>141,528</td>\n      <td>1,852,960,200</td>\n      <td>13,300</td>\n      <td>13,500</td>\n      <td>12,750</td>\n      <td>500</td>\n      <td>원(KRW)</td>\n      <td>11,312,236</td>\n      <td>144,231,009,000</td>\n      <td>NaN</td>\n    </tr>\n  </tbody>\n</table>\n<p>2507 rows × 17 columns</p>\n</div>"
     },
     "execution_count": 12,
     "metadata": {},
     "output_type": "execute_result"
    }
   ],
   "source": [
    "krx_listing"
   ],
   "metadata": {
    "collapsed": false,
    "pycharm": {
     "name": "#%%\n"
    }
   }
  },
  {
   "cell_type": "code",
   "execution_count": null,
   "outputs": [],
   "source": [],
   "metadata": {
    "collapsed": false,
    "pycharm": {
     "name": "#%%\n"
    }
   }
  }
 ],
 "metadata": {
  "kernelspec": {
   "display_name": "Python 3",
   "language": "python",
   "name": "python3"
  },
  "language_info": {
   "codemirror_mode": {
    "name": "ipython",
    "version": 2
   },
   "file_extension": ".py",
   "mimetype": "text/x-python",
   "name": "python",
   "nbconvert_exporter": "python",
   "pygments_lexer": "ipython2",
   "version": "2.7.6"
  }
 },
 "nbformat": 4,
 "nbformat_minor": 0
}